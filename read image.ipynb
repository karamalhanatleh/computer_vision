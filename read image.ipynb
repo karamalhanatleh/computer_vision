{
 "cells": [
  {
   "cell_type": "markdown",
   "id": "f3d92d9d",
   "metadata": {},
   "source": [
    "# read  image"
   ]
  },
  {
   "cell_type": "code",
   "execution_count": 1,
   "id": "70de5175",
   "metadata": {},
   "outputs": [],
   "source": [
    "#import\n",
    "import cv2\n"
   ]
  },
  {
   "cell_type": "code",
   "execution_count": 70,
   "id": "49734a65",
   "metadata": {
    "scrolled": true
   },
   "outputs": [
    {
     "name": "stdout",
     "output_type": "stream",
     "text": [
      "4.7.0\n"
     ]
    }
   ],
   "source": [
    "#version cv2\n",
    "print(cv2.__version__)"
   ]
  },
  {
   "cell_type": "code",
   "execution_count": 71,
   "id": "030efa22",
   "metadata": {},
   "outputs": [
    {
     "data": {
      "text/plain": [
       "'\\n0  grayscale\\n1  color\\n-1 alpha channel\\n'"
      ]
     },
     "execution_count": 71,
     "metadata": {},
     "output_type": "execute_result"
    }
   ],
   "source": [
    "\"\"\"\n",
    "0  grayscale\n",
    "1  color\n",
    "-1 alpha channel\n",
    "\"\"\""
   ]
  },
  {
   "cell_type": "code",
   "execution_count": 72,
   "id": "4486dd4e",
   "metadata": {
    "scrolled": true
   },
   "outputs": [
    {
     "name": "stdout",
     "output_type": "stream",
     "text": [
      "[[[ 90 123 119]\n",
      "  [ 85 120 116]\n",
      "  [ 70 111 106]\n",
      "  ...\n",
      "  [112 176 164]\n",
      "  [102 169 154]\n",
      "  [111 179 162]]\n",
      "\n",
      " [[ 80 113 109]\n",
      "  [ 76 111 107]\n",
      "  [ 68 109 104]\n",
      "  ...\n",
      "  [109 174 159]\n",
      "  [102 172 155]\n",
      "  [108 178 161]]\n",
      "\n",
      " [[ 80 115 111]\n",
      "  [ 82 119 115]\n",
      "  [ 75 116 111]\n",
      "  ...\n",
      "  [103 173 156]\n",
      "  [103 175 155]\n",
      "  [103 178 157]]\n",
      "\n",
      " ...\n",
      "\n",
      " [[104 150 108]\n",
      "  [110 155 112]\n",
      "  [114 158 111]\n",
      "  ...\n",
      "  [106 133 100]\n",
      "  [106 136 101]\n",
      "  [108 139 102]]\n",
      "\n",
      " [[109 154 115]\n",
      "  [114 159 116]\n",
      "  [125 167 120]\n",
      "  ...\n",
      "  [109 138  99]\n",
      "  [105 137  96]\n",
      "  [109 144 100]]\n",
      "\n",
      " [[113 158 119]\n",
      "  [110 152 111]\n",
      "  [121 160 114]\n",
      "  ...\n",
      "  [128 156 113]\n",
      "  [121 154 109]\n",
      "  [114 150 103]]]\n"
     ]
    }
   ],
   "source": [
    "#read image\n",
    "img= cv2.imread(\"data/apple.jpg\",1)\n",
    "print(img)"
   ]
  },
  {
   "cell_type": "code",
   "execution_count": 73,
   "id": "57515f66",
   "metadata": {},
   "outputs": [],
   "source": [
    "import numpy as np"
   ]
  },
  {
   "cell_type": "code",
   "execution_count": null,
   "id": "d5f6d049",
   "metadata": {},
   "outputs": [],
   "source": []
  },
  {
   "cell_type": "code",
   "execution_count": null,
   "id": "db4b2199",
   "metadata": {},
   "outputs": [],
   "source": []
  },
  {
   "cell_type": "code",
   "execution_count": null,
   "id": "cffb11bc",
   "metadata": {},
   "outputs": [],
   "source": [
    "#show image\n",
    "for v in range(10):\n",
    "    for i in range(len(img)):\n",
    "        for j in range(len(img)):\n",
    "            img[i][j]=np.random.randint(-250,250,3)\n",
    "    cv2.imshow(\"apple\",img)\n",
    "    k=cv2.waitKey(0)\n",
    "    if k ==27:\n",
    "        cv2.destroyAllWindows()"
   ]
  },
  {
   "cell_type": "code",
   "execution_count": 78,
   "id": "997fbcf8",
   "metadata": {},
   "outputs": [
    {
     "data": {
      "text/plain": [
       "array([101,  45, 184], dtype=uint8)"
      ]
     },
     "execution_count": 78,
     "metadata": {},
     "output_type": "execute_result"
    }
   ],
   "source": [
    "img[1][2]"
   ]
  },
  {
   "cell_type": "code",
   "execution_count": null,
   "id": "570fbccd",
   "metadata": {},
   "outputs": [],
   "source": []
  }
 ],
 "metadata": {
  "kernelspec": {
   "display_name": "Python 3 (ipykernel)",
   "language": "python",
   "name": "python3"
  },
  "language_info": {
   "codemirror_mode": {
    "name": "ipython",
    "version": 3
   },
   "file_extension": ".py",
   "mimetype": "text/x-python",
   "name": "python",
   "nbconvert_exporter": "python",
   "pygments_lexer": "ipython3",
   "version": "3.9.13"
  }
 },
 "nbformat": 4,
 "nbformat_minor": 5
}
